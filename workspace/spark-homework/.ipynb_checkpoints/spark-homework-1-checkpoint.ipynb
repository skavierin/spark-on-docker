{
 "cells": [
  {
   "cell_type": "code",
   "execution_count": 18,
   "id": "87e7ae24-6c37-432e-8b0b-cab5e48371f7",
   "metadata": {},
   "outputs": [],
   "source": [
    "from pyspark import SparkContext, SparkConf\n",
    "from pyspark.sql import SparkSession\n",
    "from pyspark.sql.functions import udf\n",
    "import requests as rq"
   ]
  },
  {
   "cell_type": "code",
   "execution_count": null,
   "id": "26d77738-7a85-461a-a20e-441f10b4081c",
   "metadata": {},
   "outputs": [],
   "source": [
    "spark = SparkSession.builder.master(\"spark://spark-master:7077\").getOrCreate()"
   ]
  },
  {
   "cell_type": "code",
   "execution_count": null,
   "id": "bee9ec89-0b9c-46e9-b0a1-1dfe777338dd",
   "metadata": {},
   "outputs": [],
   "source": [
    "df = spark.read.options(header=True).options(inferSchema='True').csv(\"spark-homework/raw-data\")\n",
    "df.printSchema()"
   ]
  },
  {
   "cell_type": "code",
   "execution_count": null,
   "id": "21b383af-007b-4bac-be0f-cd8d972fdde2",
   "metadata": {},
   "outputs": [],
   "source": [
    "df = df.filter('Latitude is Not NULL').filter('Longitude is Not NULL')"
   ]
  },
  {
   "cell_type": "code",
   "execution_count": null,
   "id": "e448800f-c9f4-422d-8752-84bc8f96c226",
   "metadata": {},
   "outputs": [],
   "source": [
    "df.show()"
   ]
  },
  {
   "cell_type": "code",
   "execution_count": null,
   "id": "c0cb6011-186b-4af9-ab04-ec0473c1c257",
   "metadata": {},
   "outputs": [],
   "source": [
    "@udf\n",
    "def forward_eval(lat, lon, name, city):\n",
    "    response = rq.get(f'https://api.opencagedata.com/geocode/v1/json?q={lat}+{lon}&key=bd6356b6fa7446e89545e28dc1bd8bab')\n",
    "    if response.status_code != 200:\n",
    "        return\n",
    "    \n",
    "    response_data = response.json()['results'][0]['components']\n",
    "\n",
    "    building_true = response_data['building']\n",
    "    city_true = response_data['city']\n",
    "\n",
    "    if name in building_true or building_true in name and city_true in city or city in city_true:\n",
    "        return True\n",
    "    else:\n",
    "        return False\n",
    "    "
   ]
  },
  {
   "cell_type": "code",
   "execution_count": null,
   "id": "463d97ca-e544-4d3e-a007-aba2eb326975",
   "metadata": {},
   "outputs": [],
   "source": [
    "df = df.withColumn('geo_filter', forward_eval(df.Latitude, df.Longitude, df.Name, df.City))"
   ]
  },
  {
   "cell_type": "code",
   "execution_count": null,
   "id": "efe62ee7-3e1d-4a86-b4bf-a7b580153d02",
   "metadata": {},
   "outputs": [],
   "source": [
    "df.show()"
   ]
  },
  {
   "cell_type": "code",
   "execution_count": null,
   "id": "1f178082-1da9-4a37-ac53-74314c0e5dcf",
   "metadata": {},
   "outputs": [],
   "source": []
  }
 ],
 "metadata": {
  "kernelspec": {
   "display_name": "Python 3 (ipykernel)",
   "language": "python",
   "name": "python3"
  },
  "language_info": {
   "codemirror_mode": {
    "name": "ipython",
    "version": 3
   },
   "file_extension": ".py",
   "mimetype": "text/x-python",
   "name": "python",
   "nbconvert_exporter": "python",
   "pygments_lexer": "ipython3",
   "version": "3.9.2"
  }
 },
 "nbformat": 4,
 "nbformat_minor": 5
}
